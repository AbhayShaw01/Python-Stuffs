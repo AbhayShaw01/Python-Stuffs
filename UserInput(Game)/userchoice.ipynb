{
 "cells": [
  {
   "cell_type": "code",
   "execution_count": 1,
   "id": "b41c590f",
   "metadata": {},
   "outputs": [],
   "source": [
    "game_list=[0,1,2]"
   ]
  },
  {
   "cell_type": "code",
   "execution_count": 2,
   "id": "63efd459",
   "metadata": {},
   "outputs": [],
   "source": [
    "def display(game_list):\n",
    "    print(\"Here is the current list:\")\n",
    "    print(game_list)"
   ]
  },
  {
   "cell_type": "code",
   "execution_count": 3,
   "id": "b70b998a",
   "metadata": {},
   "outputs": [
    {
     "name": "stdout",
     "output_type": "stream",
     "text": [
      "Here is the current list:\n",
      "[0, 1, 2]\n"
     ]
    }
   ],
   "source": [
    "display(game_list)"
   ]
  },
  {
   "cell_type": "code",
   "execution_count": 4,
   "id": "10a7371f",
   "metadata": {},
   "outputs": [],
   "source": [
    "def position_choice():\n",
    "    choice='wrong'\n",
    "    while choice not in game_list:\n",
    "        choice=int(input('Pick a position b/w 0-2 :'))\n",
    "        if choice not in game_list:\n",
    "            print (\"Sorry ,Invalid choice \")\n",
    "    return int(choice)\n",
    "    "
   ]
  },
  {
   "cell_type": "code",
   "execution_count": 25,
   "id": "0b0e4ee8",
   "metadata": {},
   "outputs": [
    {
     "name": "stdout",
     "output_type": "stream",
     "text": [
      "Pick a position b/w 0-2 :2\n"
     ]
    }
   ],
   "source": [
    "position=position_choice()"
   ]
  },
  {
   "cell_type": "code",
   "execution_count": 15,
   "id": "d536ff0b",
   "metadata": {},
   "outputs": [],
   "source": [
    "def replacement(game_list,position):\n",
    "    user_input=input(\"Type a string to be replaced\")\n",
    "    game_list[position]=user_input\n",
    "    return game_list"
   ]
  },
  {
   "cell_type": "code",
   "execution_count": 16,
   "id": "084396d0",
   "metadata": {},
   "outputs": [
    {
     "name": "stdout",
     "output_type": "stream",
     "text": [
      "Type a string to be replacedx\n"
     ]
    },
    {
     "data": {
      "text/plain": [
       "[0, 1, 'x']"
      ]
     },
     "execution_count": 16,
     "metadata": {},
     "output_type": "execute_result"
    }
   ],
   "source": [
    "replacement(game_list,2)"
   ]
  },
  {
   "cell_type": "code",
   "execution_count": 20,
   "id": "35dece73",
   "metadata": {},
   "outputs": [],
   "source": [
    "def gameon_choice():\n",
    "    choice='wrong'\n",
    "    while choice not in ['Y','N']:\n",
    "        choice=input('Keeping Playing ? (Y/N)')\n",
    "        if choice not in ['Y','N']:\n",
    "            print (\"Invalid choice!! Please choose 'Y' or 'N' \")\n",
    "    if choice == 'Y':\n",
    "        return True\n",
    "    else :\n",
    "        return False\n",
    "    "
   ]
  },
  {
   "cell_type": "code",
   "execution_count": 23,
   "id": "115feac0",
   "metadata": {},
   "outputs": [
    {
     "name": "stdout",
     "output_type": "stream",
     "text": [
      "Keeping Playing ? (Y/N)djps\n",
      "Invalid choice!! Please choose 'Y' or 'N' \n",
      "Keeping Playing ? (Y/N)N\n"
     ]
    },
    {
     "data": {
      "text/plain": [
       "False"
      ]
     },
     "execution_count": 23,
     "metadata": {},
     "output_type": "execute_result"
    }
   ],
   "source": [
    "gameon_choice()"
   ]
  },
  {
   "cell_type": "code",
   "execution_count": 26,
   "id": "9465873e",
   "metadata": {},
   "outputs": [
    {
     "name": "stdout",
     "output_type": "stream",
     "text": [
      "Here is the current list:\n",
      "[0, 1, 2]\n",
      "Pick a position b/w 0-2 :2\n",
      "Type a string to be replacedx\n",
      "Here is the current list:\n",
      "[0, 1, 'x']\n",
      "Keeping Playing ? (Y/N)Y\n",
      "Here is the current list:\n",
      "[0, 1, 'x']\n",
      "Pick a position b/w 0-2 :2\n",
      "Sorry ,Invalid choice \n",
      "Pick a position b/w 0-2 :2\n",
      "Sorry ,Invalid choice \n",
      "Pick a position b/w 0-2 :1\n",
      "Type a string to be replaced1\n",
      "Here is the current list:\n",
      "[0, 1, '1']\n",
      "Keeping Playing ? (Y/N)N\n"
     ]
    }
   ],
   "source": [
    "gameOn=True\n",
    "game_list=[0,1,2]\n",
    "while gameOn:\n",
    "    display(game_list)\n",
    "    position_choice()\n",
    "    replacement(game_list,position)\n",
    "    display(game_list)\n",
    "    gameOn=gameon_choice()"
   ]
  },
  {
   "cell_type": "code",
   "execution_count": null,
   "id": "5d99d55e",
   "metadata": {},
   "outputs": [],
   "source": []
  }
 ],
 "metadata": {
  "kernelspec": {
   "display_name": "Python 3 (ipykernel)",
   "language": "python",
   "name": "python3"
  },
  "language_info": {
   "codemirror_mode": {
    "name": "ipython",
    "version": 3
   },
   "file_extension": ".py",
   "mimetype": "text/x-python",
   "name": "python",
   "nbconvert_exporter": "python",
   "pygments_lexer": "ipython3",
   "version": "3.9.13"
  }
 },
 "nbformat": 4,
 "nbformat_minor": 5
}
